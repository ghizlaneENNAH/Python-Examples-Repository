{
  "nbformat": 4,
  "nbformat_minor": 0,
  "metadata": {
    "colab": {
      "provenance": []
    },
    "kernelspec": {
      "name": "python3",
      "display_name": "Python 3"
    },
    "language_info": {
      "name": "python"
    }
  },
  "cells": [
    {
      "cell_type": "code",
      "execution_count": null,
      "metadata": {
        "colab": {
          "base_uri": "https://localhost:8080/"
        },
        "id": "zVv4IUJUOp-G",
        "outputId": "f2385dd0-7d73-4446-d546-d218c8462778"
      },
      "outputs": [
        {
          "output_type": "stream",
          "name": "stdout",
          "text": [
            "22\n"
          ]
        }
      ],
      "source": [
        "x = 22\n",
        "\n",
        "print(x)"
      ]
    },
    {
      "cell_type": "code",
      "source": [
        "type(x)\n"
      ],
      "metadata": {
        "colab": {
          "base_uri": "https://localhost:8080/"
        },
        "id": "QBK8NyAOPYEE",
        "outputId": "1d344bdb-e014-46cc-c15b-1f725193532a"
      },
      "execution_count": null,
      "outputs": [
        {
          "output_type": "execute_result",
          "data": {
            "text/plain": [
              "int"
            ]
          },
          "metadata": {},
          "execution_count": 3
        }
      ]
    },
    {
      "cell_type": "code",
      "source": [
        "y = 'Mint Chocolate Chip'\n",
        "\n",
        "print(y)"
      ],
      "metadata": {
        "colab": {
          "base_uri": "https://localhost:8080/"
        },
        "id": "1HqoMBmuPbeK",
        "outputId": "59e8ee32-8115-409b-dd96-b15df5adfbab"
      },
      "execution_count": null,
      "outputs": [
        {
          "output_type": "stream",
          "name": "stdout",
          "text": [
            "Mint Chocolate Chip\n"
          ]
        }
      ]
    },
    {
      "cell_type": "code",
      "source": [
        "type(y)"
      ],
      "metadata": {
        "colab": {
          "base_uri": "https://localhost:8080/"
        },
        "id": "rWvbLplYPdcn",
        "outputId": "b18d8ff1-5706-45dd-f04d-5e076ba70e18"
      },
      "execution_count": null,
      "outputs": [
        {
          "output_type": "execute_result",
          "data": {
            "text/plain": [
              "str"
            ]
          },
          "metadata": {},
          "execution_count": 5
        }
      ]
    },
    {
      "cell_type": "code",
      "source": [
        "# Case Sensitivity\n",
        "\n",
        "y = 'Chocolate'\n",
        "\n",
        "Y = 'Mint Chocolate Chip'\n",
        "\n",
        "print(Y)"
      ],
      "metadata": {
        "colab": {
          "base_uri": "https://localhost:8080/"
        },
        "id": "WNdT26coPeNy",
        "outputId": "1361b646-fe79-48ee-da74-3ccde8680740"
      },
      "execution_count": null,
      "outputs": [
        {
          "output_type": "stream",
          "name": "stdout",
          "text": [
            "Mint Chocolate Chip\n"
          ]
        }
      ]
    },
    {
      "cell_type": "code",
      "source": [
        "#Assign multiple values to multiple variables\n",
        "\n",
        "x,y,z = 'Chocolate', 'Vanilla', 'Rocky Road'\n",
        "\n",
        "print(x)\n",
        "print(y)\n",
        "print(z)"
      ],
      "metadata": {
        "colab": {
          "base_uri": "https://localhost:8080/"
        },
        "id": "343oVOO-PgMz",
        "outputId": "94fa97fd-365e-496a-b09d-532065ef39b6"
      },
      "execution_count": null,
      "outputs": [
        {
          "output_type": "stream",
          "name": "stdout",
          "text": [
            "Chocolate\n",
            "Vanilla\n",
            "Rocky Road\n"
          ]
        }
      ]
    },
    {
      "cell_type": "code",
      "source": [
        "#Assign one value to multiple variables\n",
        "\n",
        "x = y = z = 'Root Beer Float'\n",
        "\n",
        "print(x)\n",
        "print(y)\n",
        "print(z)"
      ],
      "metadata": {
        "colab": {
          "base_uri": "https://localhost:8080/"
        },
        "id": "BmSTzIToPkL6",
        "outputId": "b181be93-6fb9-4fc1-9d5e-f0e1362d672b"
      },
      "execution_count": null,
      "outputs": [
        {
          "output_type": "stream",
          "name": "stdout",
          "text": [
            "Root Beer Float\n",
            "Root Beer Float\n",
            "Root Beer Float\n"
          ]
        }
      ]
    },
    {
      "cell_type": "code",
      "source": [
        "ice_cream = ['Chocolate', 'Vanilla', 'Rocky Road']\n",
        "\n",
        "x,y,z = ice_cream\n",
        "\n",
        "print(x)\n",
        "print(y)\n",
        "print(z)"
      ],
      "metadata": {
        "colab": {
          "base_uri": "https://localhost:8080/"
        },
        "id": "_gvezwEcPlGN",
        "outputId": "3ced0ed0-c22b-4137-b481-4429a5a83567"
      },
      "execution_count": null,
      "outputs": [
        {
          "output_type": "stream",
          "name": "stdout",
          "text": [
            "Chocolate\n",
            "Vanilla\n",
            "Rocky Road\n"
          ]
        }
      ]
    },
    {
      "cell_type": "code",
      "source": [
        "# Camel Case\n",
        "\n",
        "#Test Variable Case\n",
        "\n",
        "testVariableCase = 'Vanilla Swirl'"
      ],
      "metadata": {
        "id": "oqRTKgXvPmU3"
      },
      "execution_count": null,
      "outputs": []
    },
    {
      "cell_type": "code",
      "source": [
        "# Pascal Case\n",
        "\n",
        "#Test Variable Case\n",
        "\n",
        "TestVariableCase = 'Vanilla Swirl'"
      ],
      "metadata": {
        "id": "F5Eaul3eP5TB"
      },
      "execution_count": null,
      "outputs": []
    },
    {
      "cell_type": "code",
      "source": [
        "# Snake Case\n",
        "\n",
        "#Test Variable Case\n",
        "\n",
        "test_variable_case = 'Vanilla Swirl'"
      ],
      "metadata": {
        "id": "4yHX1E1xP722"
      },
      "execution_count": null,
      "outputs": []
    },
    {
      "cell_type": "code",
      "source": [
        "#Good ways to write variables\n",
        "\n",
        "testvar = 'Vanilla Swirl'\n",
        "test_var = 'Vanilla Swirl'\n",
        "_test_var = 'Vanilla Swirl'\n",
        "testVar = 'Vanilla Swirl'\n",
        "TestVar = 'Vanilla Swirl'\n",
        "testVar2 = 'Vanilla Swirl'"
      ],
      "metadata": {
        "id": "TtbB9kmjP-Ht"
      },
      "execution_count": null,
      "outputs": []
    },
    {
      "cell_type": "code",
      "source": [
        "#Bad ways to write variables\n",
        "\n",
        "2testVar = 'Vanilla Swirl'\n",
        "test-Var2 = 'Vanilla Swirl'\n",
        "test Var2 = 'Vanilla Swirl'\n",
        "test,Var2 = 'Vanilla Swirl'"
      ],
      "metadata": {
        "colab": {
          "base_uri": "https://localhost:8080/",
          "height": 106
        },
        "id": "-2WovrQ6QAL9",
        "outputId": "f4f6f860-d401-4051-bbf3-324d3716299e"
      },
      "execution_count": null,
      "outputs": [
        {
          "output_type": "error",
          "ename": "SyntaxError",
          "evalue": "invalid decimal literal (<ipython-input-14-17efe39f1d70>, line 3)",
          "traceback": [
            "\u001b[0;36m  File \u001b[0;32m\"<ipython-input-14-17efe39f1d70>\"\u001b[0;36m, line \u001b[0;32m3\u001b[0m\n\u001b[0;31m    2testVar = 'Vanilla Swirl'\u001b[0m\n\u001b[0m    ^\u001b[0m\n\u001b[0;31mSyntaxError\u001b[0m\u001b[0;31m:\u001b[0m invalid decimal literal\n"
          ]
        }
      ]
    },
    {
      "cell_type": "code",
      "source": [
        "x = 'Ice Cream is my favorite' + 2\n",
        "\n",
        "print(x)"
      ],
      "metadata": {
        "colab": {
          "base_uri": "https://localhost:8080/",
          "height": 176
        },
        "id": "vSgNPv5VQCP-",
        "outputId": "5dcee4f2-8333-4396-9571-bf3fb6332f88"
      },
      "execution_count": null,
      "outputs": [
        {
          "output_type": "error",
          "ename": "TypeError",
          "evalue": "can only concatenate str (not \"int\") to str",
          "traceback": [
            "\u001b[0;31m---------------------------------------------------------------------------\u001b[0m",
            "\u001b[0;31mTypeError\u001b[0m                                 Traceback (most recent call last)",
            "\u001b[0;32m<ipython-input-15-8a33ece708b5>\u001b[0m in \u001b[0;36m<cell line: 0>\u001b[0;34m()\u001b[0m\n\u001b[0;32m----> 1\u001b[0;31m \u001b[0mx\u001b[0m \u001b[0;34m=\u001b[0m \u001b[0;34m'Ice Cream is my favorite'\u001b[0m \u001b[0;34m+\u001b[0m \u001b[0;36m2\u001b[0m\u001b[0;34m\u001b[0m\u001b[0;34m\u001b[0m\u001b[0m\n\u001b[0m\u001b[1;32m      2\u001b[0m \u001b[0;34m\u001b[0m\u001b[0m\n\u001b[1;32m      3\u001b[0m \u001b[0mprint\u001b[0m\u001b[0;34m(\u001b[0m\u001b[0mx\u001b[0m\u001b[0;34m)\u001b[0m\u001b[0;34m\u001b[0m\u001b[0;34m\u001b[0m\u001b[0m\n",
            "\u001b[0;31mTypeError\u001b[0m: can only concatenate str (not \"int\") to str"
          ]
        }
      ]
    },
    {
      "cell_type": "code",
      "source": [
        "y = 3 + 2\n",
        "\n",
        "print(y)"
      ],
      "metadata": {
        "colab": {
          "base_uri": "https://localhost:8080/"
        },
        "id": "wo_E1oFEQEwd",
        "outputId": "b84db7dd-cdc4-497f-f2bc-ac7a971f0046"
      },
      "execution_count": null,
      "outputs": [
        {
          "output_type": "stream",
          "name": "stdout",
          "text": [
            "5\n"
          ]
        }
      ]
    },
    {
      "cell_type": "code",
      "source": [
        "x = 'Ice Cream'\n",
        "y = ' is'\n",
        "z = ' my favorite.'\n",
        "\n",
        "print(x+y+z)"
      ],
      "metadata": {
        "colab": {
          "base_uri": "https://localhost:8080/"
        },
        "id": "eJhIdXGNQGlT",
        "outputId": "52234307-0105-44a1-8129-d162784e2afe"
      },
      "execution_count": null,
      "outputs": [
        {
          "output_type": "stream",
          "name": "stdout",
          "text": [
            "Ice Cream is my favorite.\n"
          ]
        }
      ]
    },
    {
      "cell_type": "code",
      "source": [
        "x = 1\n",
        "y = 2\n",
        "z = 3\n",
        "\n",
        "print(x+y+z)"
      ],
      "metadata": {
        "colab": {
          "base_uri": "https://localhost:8080/"
        },
        "id": "P3v1E_FAQIml",
        "outputId": "5498be1b-49ae-4aa5-84d7-4b5832fe6d72"
      },
      "execution_count": null,
      "outputs": [
        {
          "output_type": "stream",
          "name": "stdout",
          "text": [
            "6\n"
          ]
        }
      ]
    },
    {
      "cell_type": "code",
      "source": [
        "x = 'Ice Cream'\n",
        "y = 2\n",
        "\n",
        "\n",
        "print(x,y)"
      ],
      "metadata": {
        "colab": {
          "base_uri": "https://localhost:8080/"
        },
        "id": "GycAYFzvQKuk",
        "outputId": "126fa36f-82b9-40ec-d863-743bba46169b"
      },
      "execution_count": null,
      "outputs": [
        {
          "output_type": "stream",
          "name": "stdout",
          "text": [
            "Ice Cream 2\n"
          ]
        }
      ]
    },
    {
      "cell_type": "code",
      "source": [],
      "metadata": {
        "id": "keWj_LPXQo1P"
      },
      "execution_count": null,
      "outputs": []
    }
  ]
}