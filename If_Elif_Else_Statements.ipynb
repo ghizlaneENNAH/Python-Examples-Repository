{
  "nbformat": 4,
  "nbformat_minor": 0,
  "metadata": {
    "colab": {
      "provenance": []
    },
    "kernelspec": {
      "name": "python3",
      "display_name": "Python 3"
    },
    "language_info": {
      "name": "python"
    }
  },
  "cells": [
    {
      "cell_type": "code",
      "execution_count": null,
      "metadata": {
        "colab": {
          "base_uri": "https://localhost:8080/"
        },
        "id": "Q0sjSrkoY-pb",
        "outputId": "b1c00a63-a7c1-42b2-d635-2e671e3ddd51"
      },
      "outputs": [
        {
          "output_type": "stream",
          "name": "stdout",
          "text": [
            "It worked!\n"
          ]
        }
      ],
      "source": [
        "if 25 > 10:\n",
        "    print('It worked!')"
      ]
    },
    {
      "cell_type": "code",
      "source": [
        "if 25 > 10:\n",
        "    print('It worked!')\n",
        "else:\n",
        "    print('It did not work...')"
      ],
      "metadata": {
        "colab": {
          "base_uri": "https://localhost:8080/"
        },
        "id": "9--RnY7FZLBC",
        "outputId": "e4df8af5-a547-4873-c85d-8d1b52e4ec3f"
      },
      "execution_count": null,
      "outputs": [
        {
          "output_type": "stream",
          "name": "stdout",
          "text": [
            "It worked!\n"
          ]
        }
      ]
    },
    {
      "cell_type": "code",
      "source": [
        "if (25 < 10) or (1 < 3):\n",
        "    print('It worked!')\n",
        "elif 25 < 20:\n",
        "    print('elif worked!')\n",
        "elif 25 < 21:\n",
        "    print('elif 2 worked!')\n",
        "elif 25 < 40:\n",
        "    print('elif 3 worked!')\n",
        "elif 25 < 50:\n",
        "    print('elif 4 worked!')\n",
        "else:\n",
        "    print('It did not work...')"
      ],
      "metadata": {
        "colab": {
          "base_uri": "https://localhost:8080/"
        },
        "id": "aMV2mVqUbmIi",
        "outputId": "0fa11d14-dccb-429c-80ca-e04aafbc8ba0"
      },
      "execution_count": null,
      "outputs": [
        {
          "output_type": "stream",
          "name": "stdout",
          "text": [
            "It worked!\n"
          ]
        }
      ]
    },
    {
      "cell_type": "code",
      "source": [
        "print('It worked!') if 10>30 else print('It did not work...')\n"
      ],
      "metadata": {
        "colab": {
          "base_uri": "https://localhost:8080/"
        },
        "id": "HIrjiGwKb3-a",
        "outputId": "e520cf99-0951-4a7b-9bb3-0e6e5b42f765"
      },
      "execution_count": null,
      "outputs": [
        {
          "output_type": "stream",
          "name": "stdout",
          "text": [
            "It did not work...\n"
          ]
        }
      ]
    },
    {
      "cell_type": "code",
      "source": [
        "if (25 < 10) or (1 < 3):\n",
        "    print('It worked!')\n",
        "    if 10 > 5:\n",
        "        print('This nested if statement worked!')\n",
        "elif 25 < 20:\n",
        "    print('elif worked!')\n",
        "elif 25 < 21:\n",
        "    print('elif 2 worked!')\n",
        "elif 25 < 40:\n",
        "    print('elif 3 worked!')\n",
        "elif 25 < 50:\n",
        "    print('elif 4 worked!')\n",
        "else:\n",
        "    print('It did not work...')"
      ],
      "metadata": {
        "colab": {
          "base_uri": "https://localhost:8080/"
        },
        "id": "ZkkNRdGsb_U8",
        "outputId": "09a34efd-2142-41e6-a7c1-1937beb84ec0"
      },
      "execution_count": null,
      "outputs": [
        {
          "output_type": "stream",
          "name": "stdout",
          "text": [
            "It worked!\n",
            "This nested if statement worked!\n"
          ]
        }
      ]
    },
    {
      "cell_type": "code",
      "source": [],
      "metadata": {
        "id": "JN4U_orOcCoH"
      },
      "execution_count": null,
      "outputs": []
    }
  ]
}