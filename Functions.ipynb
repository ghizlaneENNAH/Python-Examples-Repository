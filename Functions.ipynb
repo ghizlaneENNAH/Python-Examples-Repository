{
  "nbformat": 4,
  "nbformat_minor": 0,
  "metadata": {
    "colab": {
      "provenance": []
    },
    "kernelspec": {
      "name": "python3",
      "display_name": "Python 3"
    },
    "language_info": {
      "name": "python"
    }
  },
  "cells": [
    {
      "cell_type": "code",
      "execution_count": null,
      "metadata": {
        "id": "b1TJrxW7XX4I"
      },
      "outputs": [],
      "source": [
        "def first_func():\n",
        "    print('We did it!')"
      ]
    },
    {
      "cell_type": "code",
      "source": [
        "first_func()"
      ],
      "metadata": {
        "colab": {
          "base_uri": "https://localhost:8080/"
        },
        "id": "CjlNAIxmXrVs",
        "outputId": "01ea046d-a9ea-42ae-e7f5-734dfc78b60e"
      },
      "execution_count": null,
      "outputs": [
        {
          "output_type": "stream",
          "name": "stdout",
          "text": [
            "We did it!\n"
          ]
        }
      ]
    },
    {
      "cell_type": "code",
      "source": [
        "def number_squared(number):\n",
        "    print(number**2)"
      ],
      "metadata": {
        "id": "Y1T_oVKDXtkF"
      },
      "execution_count": null,
      "outputs": []
    },
    {
      "cell_type": "code",
      "source": [
        "number_squared(5)\n"
      ],
      "metadata": {
        "colab": {
          "base_uri": "https://localhost:8080/"
        },
        "id": "Gtx8MiXFYP_9",
        "outputId": "b19a8741-b52a-496d-ea80-842c65f03945"
      },
      "execution_count": null,
      "outputs": [
        {
          "output_type": "stream",
          "name": "stdout",
          "text": [
            "25\n"
          ]
        }
      ]
    },
    {
      "cell_type": "code",
      "source": [
        "def number_squared_cust(number,power):\n",
        "    print(number**power)"
      ],
      "metadata": {
        "id": "8DtUA71YYSMv"
      },
      "execution_count": null,
      "outputs": []
    },
    {
      "cell_type": "code",
      "source": [
        "number_squared_cust(5,3)"
      ],
      "metadata": {
        "colab": {
          "base_uri": "https://localhost:8080/"
        },
        "id": "gDpopMBiYU86",
        "outputId": "1469a5ff-2d84-4101-d159-ebbd2f4771d8"
      },
      "execution_count": null,
      "outputs": [
        {
          "output_type": "stream",
          "name": "stdout",
          "text": [
            "125\n"
          ]
        }
      ]
    },
    {
      "cell_type": "code",
      "source": [
        "args_tuple = (5,6,1,2,8)\n",
        "\n",
        "def number_args(*number):\n",
        "    print(number[0]*number[1])"
      ],
      "metadata": {
        "id": "0gSKbfvjYWkb"
      },
      "execution_count": null,
      "outputs": []
    },
    {
      "cell_type": "code",
      "source": [
        "number_args(*args_tuple)"
      ],
      "metadata": {
        "colab": {
          "base_uri": "https://localhost:8080/"
        },
        "id": "PhzGBFqbYhAT",
        "outputId": "d35073fb-f782-490a-bd33-3bd1e9078215"
      },
      "execution_count": null,
      "outputs": [
        {
          "output_type": "stream",
          "name": "stdout",
          "text": [
            "30\n"
          ]
        }
      ]
    },
    {
      "cell_type": "code",
      "source": [
        "def number_squared_cust(number,power):\n",
        "    print(number**power)"
      ],
      "metadata": {
        "id": "rqom6T6hYi8P"
      },
      "execution_count": null,
      "outputs": []
    },
    {
      "cell_type": "code",
      "source": [
        "number_squared_cust(power = 5,number = 3)"
      ],
      "metadata": {
        "colab": {
          "base_uri": "https://localhost:8080/"
        },
        "id": "NfJWkEEbYnzq",
        "outputId": "c3ecb485-aea6-408a-94c2-797a887e6a43"
      },
      "execution_count": null,
      "outputs": [
        {
          "output_type": "stream",
          "name": "stdout",
          "text": [
            "243\n"
          ]
        }
      ]
    },
    {
      "cell_type": "code",
      "source": [
        "def number_kwarg(**number):\n",
        "    print('My number is: ' + number['integer'] + 'My other number: ' + number['integer2'])"
      ],
      "metadata": {
        "id": "8j0WtUobYpnt"
      },
      "execution_count": null,
      "outputs": []
    },
    {
      "cell_type": "code",
      "source": [
        "number_kwarg(integer = '2309', integer2 = '349')"
      ],
      "metadata": {
        "id": "zkJwOXBIY3_e",
        "outputId": "5da26971-6f75-478b-8e57-f50d6a2430de",
        "colab": {
          "base_uri": "https://localhost:8080/"
        }
      },
      "execution_count": null,
      "outputs": [
        {
          "output_type": "stream",
          "name": "stdout",
          "text": [
            "My number is: 2309My other number: 349\n"
          ]
        }
      ]
    },
    {
      "cell_type": "code",
      "source": [],
      "metadata": {
        "id": "O0gS8XXeY5gy"
      },
      "execution_count": null,
      "outputs": []
    }
  ]
}