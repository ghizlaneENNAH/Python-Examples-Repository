{
  "nbformat": 4,
  "nbformat_minor": 0,
  "metadata": {
    "colab": {
      "provenance": []
    },
    "kernelspec": {
      "name": "python3",
      "display_name": "Python 3"
    },
    "language_info": {
      "name": "python"
    }
  },
  "cells": [
    {
      "cell_type": "code",
      "execution_count": null,
      "metadata": {
        "colab": {
          "base_uri": "https://localhost:8080/"
        },
        "id": "fb8KdjEUcP0D",
        "outputId": "b994e7d8-a746-4dd1-b7e2-8bcc6beaad21"
      },
      "outputs": [
        {
          "output_type": "stream",
          "name": "stdout",
          "text": [
            "0\n",
            "1\n",
            "2\n",
            "3\n",
            "4\n"
          ]
        }
      ],
      "source": [
        "number = 0\n",
        "\n",
        "while number < 5:\n",
        "    print(number)\n",
        "    number = number + 1"
      ]
    },
    {
      "cell_type": "code",
      "source": [
        "number = 0\n",
        "\n",
        "while number < 5:\n",
        "    print(number)\n",
        "    if number == 3:\n",
        "        break\n",
        "    number = number + 1"
      ],
      "metadata": {
        "colab": {
          "base_uri": "https://localhost:8080/"
        },
        "id": "BswtXuoCcbrj",
        "outputId": "527d618b-5bf0-4882-cb8c-af3a76e79ac1"
      },
      "execution_count": null,
      "outputs": [
        {
          "output_type": "stream",
          "name": "stdout",
          "text": [
            "0\n",
            "1\n",
            "2\n",
            "3\n"
          ]
        }
      ]
    },
    {
      "cell_type": "code",
      "source": [
        "number = 0\n",
        "\n",
        "while number < 5:\n",
        "    print(number)\n",
        "    if number == 3:\n",
        "        break\n",
        "    number = number + 1"
      ],
      "metadata": {
        "colab": {
          "base_uri": "https://localhost:8080/"
        },
        "id": "WHE28GQMcdf9",
        "outputId": "e09b9571-6a31-492d-bed6-ce54a3d0e0c2"
      },
      "execution_count": null,
      "outputs": [
        {
          "output_type": "stream",
          "name": "stdout",
          "text": [
            "0\n",
            "1\n",
            "2\n",
            "3\n"
          ]
        }
      ]
    },
    {
      "cell_type": "code",
      "source": [
        "number = 0\n",
        "\n",
        "while number < 5:\n",
        "    print(number)\n",
        "    if number == 3:\n",
        "        break\n",
        "    number = number + 1\n",
        "else:\n",
        "    print('No longer < 5')"
      ],
      "metadata": {
        "colab": {
          "base_uri": "https://localhost:8080/"
        },
        "id": "FF0M1XKLc7ZB",
        "outputId": "6ebcf8a3-ed2c-41be-9bf3-d3335341dd27"
      },
      "execution_count": null,
      "outputs": [
        {
          "output_type": "stream",
          "name": "stdout",
          "text": [
            "0\n",
            "1\n",
            "2\n",
            "3\n"
          ]
        }
      ]
    },
    {
      "cell_type": "code",
      "source": [
        "number = 0\n",
        "\n",
        "while number < 5:\n",
        "    number = number + 1\n",
        "    if number == 3:\n",
        "        continue\n",
        "    print(number)\n",
        "else:\n",
        "    print('No longer < 5')"
      ],
      "metadata": {
        "colab": {
          "base_uri": "https://localhost:8080/"
        },
        "id": "tAKPmrJpdD2L",
        "outputId": "c6718b5e-95c7-4b26-a73c-4f51f3754db5"
      },
      "execution_count": null,
      "outputs": [
        {
          "output_type": "stream",
          "name": "stdout",
          "text": [
            "1\n",
            "2\n",
            "4\n",
            "5\n",
            "No longer < 5\n"
          ]
        }
      ]
    },
    {
      "cell_type": "code",
      "source": [],
      "metadata": {
        "id": "cFDtiZQddNp1"
      },
      "execution_count": null,
      "outputs": []
    }
  ]
}