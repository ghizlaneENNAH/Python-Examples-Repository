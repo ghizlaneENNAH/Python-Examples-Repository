{
  "nbformat": 4,
  "nbformat_minor": 0,
  "metadata": {
    "colab": {
      "provenance": []
    },
    "kernelspec": {
      "name": "python3",
      "display_name": "Python 3"
    },
    "language_info": {
      "name": "python"
    }
  },
  "cells": [
    {
      "cell_type": "code",
      "execution_count": null,
      "metadata": {
        "id": "ps-o8pA-WlC4"
      },
      "outputs": [],
      "source": [
        "integers = [1,2,3,4,5]"
      ]
    },
    {
      "cell_type": "code",
      "source": [
        "for number in integers:\n",
        "    print(number)"
      ],
      "metadata": {
        "colab": {
          "base_uri": "https://localhost:8080/"
        },
        "id": "Vtrtv3NFWu9p",
        "outputId": "98caad90-6c9c-4960-b329-0e55f0f06634"
      },
      "execution_count": null,
      "outputs": [
        {
          "output_type": "stream",
          "name": "stdout",
          "text": [
            "1\n",
            "2\n",
            "3\n",
            "4\n",
            "5\n"
          ]
        }
      ]
    },
    {
      "cell_type": "code",
      "source": [
        "for number in integers:\n",
        "    print('yep!')"
      ],
      "metadata": {
        "colab": {
          "base_uri": "https://localhost:8080/"
        },
        "id": "5HIyJLiPWwez",
        "outputId": "93da1276-f637-4f2c-936c-cdeb402e8768"
      },
      "execution_count": null,
      "outputs": [
        {
          "output_type": "stream",
          "name": "stdout",
          "text": [
            "yep!\n",
            "yep!\n",
            "yep!\n",
            "yep!\n",
            "yep!\n"
          ]
        }
      ]
    },
    {
      "cell_type": "code",
      "source": [
        "integers = [1,2,3,4,5]"
      ],
      "metadata": {
        "id": "jxXoFe0HWync"
      },
      "execution_count": null,
      "outputs": []
    },
    {
      "cell_type": "code",
      "source": [
        "for Jelly in integers:\n",
        "    print(Jelly + Jelly)"
      ],
      "metadata": {
        "colab": {
          "base_uri": "https://localhost:8080/"
        },
        "id": "7BCEeZeUW1sN",
        "outputId": "19d312dc-8c3e-425d-ed57-a322812c5a77"
      },
      "execution_count": null,
      "outputs": [
        {
          "output_type": "stream",
          "name": "stdout",
          "text": [
            "2\n",
            "4\n",
            "6\n",
            "8\n",
            "10\n"
          ]
        }
      ]
    },
    {
      "cell_type": "code",
      "source": [
        "ice_cream_dict = {'name': 'Alex Freberg', 'weekly intake': 5, 'favorite ice creams': ['MCC', 'Chocolate']}\n"
      ],
      "metadata": {
        "id": "ET-98VApW7jC"
      },
      "execution_count": null,
      "outputs": []
    },
    {
      "cell_type": "code",
      "source": [
        "for cream in ice_cream_dict.values():\n",
        "    print(cream)"
      ],
      "metadata": {
        "colab": {
          "base_uri": "https://localhost:8080/"
        },
        "id": "vTillEVwW-M9",
        "outputId": "a40de769-31fc-499d-8a5b-2168f46a6391"
      },
      "execution_count": null,
      "outputs": [
        {
          "output_type": "stream",
          "name": "stdout",
          "text": [
            "Alex Freberg\n",
            "5\n",
            "['MCC', 'Chocolate']\n"
          ]
        }
      ]
    },
    {
      "cell_type": "code",
      "source": [
        "for key, value in ice_cream_dict.items():\n",
        "    print(key, '->',value)"
      ],
      "metadata": {
        "colab": {
          "base_uri": "https://localhost:8080/"
        },
        "id": "fO2Xw6QEXBQE",
        "outputId": "198d5c05-3788-44dc-cddb-c6af29640027"
      },
      "execution_count": null,
      "outputs": [
        {
          "output_type": "stream",
          "name": "stdout",
          "text": [
            "name -> Alex Freberg\n",
            "weekly intake -> 5\n",
            "favorite ice creams -> ['MCC', 'Chocolate']\n"
          ]
        }
      ]
    },
    {
      "cell_type": "code",
      "source": [],
      "metadata": {
        "id": "hfaY035IXFEP"
      },
      "execution_count": null,
      "outputs": []
    },
    {
      "cell_type": "markdown",
      "source": [
        "Nested For Loops"
      ],
      "metadata": {
        "id": "eXoSgFluXHgF"
      }
    },
    {
      "cell_type": "code",
      "source": [
        "flavors = ['Vanilla', 'Chocolate', 'Cookie Dough']\n",
        "toppings = ['Hot Fudge', 'Oreos', 'Marshmallows']"
      ],
      "metadata": {
        "id": "tTaBVgTzXIRl"
      },
      "execution_count": null,
      "outputs": []
    },
    {
      "cell_type": "code",
      "source": [
        "for one in flavors:\n",
        "    for two in toppings:\n",
        "        print(one, 'topped with', two)"
      ],
      "metadata": {
        "id": "SArMWvTrXLwN",
        "outputId": "3bb743a7-1de5-4ef7-ad13-61b9c9f57570",
        "colab": {
          "base_uri": "https://localhost:8080/"
        }
      },
      "execution_count": null,
      "outputs": [
        {
          "output_type": "stream",
          "name": "stdout",
          "text": [
            "Vanilla topped with Hot Fudge\n",
            "Vanilla topped with Oreos\n",
            "Vanilla topped with Marshmallows\n",
            "Chocolate topped with Hot Fudge\n",
            "Chocolate topped with Oreos\n",
            "Chocolate topped with Marshmallows\n",
            "Cookie Dough topped with Hot Fudge\n",
            "Cookie Dough topped with Oreos\n",
            "Cookie Dough topped with Marshmallows\n"
          ]
        }
      ]
    },
    {
      "cell_type": "code",
      "source": [],
      "metadata": {
        "id": "bdM529qZXSpN"
      },
      "execution_count": null,
      "outputs": []
    }
  ]
}